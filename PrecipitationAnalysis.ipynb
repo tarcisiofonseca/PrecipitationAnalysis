{
  "cells": [
    {
      "cell_type": "code",
      "execution_count": 4,
      "metadata": {
        "id": "XjCCewfckeFg"
      },
      "outputs": [],
      "source": [
        "import hydrobr\n",
        "import pandas as pd\n",
        "import geopandas as gpd\n",
        "import matplotlib.pyplot as plt\n",
        "import rasterio\n",
        "from rasterio.plot import show"
      ]
    },
    {
      "cell_type": "code",
      "source": [
        "from google.colab import drive\n",
        "drive.mount('/content/gdrive')"
      ],
      "metadata": {
        "id": "1DSPR0BkDhFk"
      },
      "execution_count": null,
      "outputs": []
    },
    {
      "cell_type": "code",
      "source": [
        "def cities(cities, state):\n",
        "  if len(cities) > 0:\n",
        "    table = []\n",
        "    for i in range(0, len(cities)):\n",
        "      station = hydrobr.get_data.ANA.list_prec_stations(state = state, city=cities[i])\n",
        "      table.append(station)\n",
        "    final_table = pd.concat(table)\n",
        "    display(final_table)\n",
        "    return final_table\n",
        "  else:\n",
        "    station = hydrobr.get_data.ANA.list_prec_stations(state = state)\n",
        "    display(station)\n",
        "    return station"
      ],
      "metadata": {
        "id": "6-wH1zxhzC-n"
      },
      "execution_count": 6,
      "outputs": []
    },
    {
      "cell_type": "code",
      "source": [
        "def data_gantt(table, code = 0):\n",
        "  if code == 0:\n",
        "    stations = table.Code.to_list()\n",
        "    data = hydrobr.get_data.ANA.prec_data(stations)\n",
        "    id = table[\"Code\"]\n",
        "    name = table[\"Name\"]\n",
        "    responsible = table[\"Responsible\"]\n",
        "    id_list = []\n",
        "    name_list = []\n",
        "    responsible_list = []\n",
        "    for i in range(0, len(table)):\n",
        "      id_list.append(id.iloc[i])\n",
        "    for i in range(0, len(table)):\n",
        "      name_list.append(name.iloc[i])\n",
        "    for i in range(0, len(table)):\n",
        "      responsible_list.append(responsible.iloc[i])\n",
        "    for i in range(0, len(id_list)):\n",
        "      data = data.rename(columns={id_list[i]: name_list[i] + \" \" + \"(\" + responsible_list[i] + \")\"})\n",
        "    return data\n",
        "  if code == 1:\n",
        "      stations = table.Code.to_list()\n",
        "      data = hydrobr.get_data.ANA.prec_data(stations)\n",
        "      return data"
      ],
      "metadata": {
        "id": "982csbCi2rs4"
      },
      "execution_count": 7,
      "outputs": []
    },
    {
      "cell_type": "code",
      "source": [
        "city_list = ['MUCURI', 'RODELAS'] # Choose the cities of your nterest. Leave it empty to get all cities from the state below.\n",
        "state = 'BAHIA'                   # Choose the state regarding the cities above. You can select just one per time.\n",
        "table = cities(city_list, state)"
      ],
      "metadata": {
        "id": "i_1Qki7ja4eg"
      },
      "execution_count": null,
      "outputs": []
    },
    {
      "cell_type": "code",
      "source": [
        "station = gpd.GeoDataFrame(table, geometry = gpd.points_from_xy(table['Longitude'], table['Latitude']))"
      ],
      "metadata": {
        "id": "IssyF467sQcg"
      },
      "execution_count": 25,
      "outputs": []
    },
    {
      "cell_type": "code",
      "source": [
        "raster = rasterio.open('/content/gdrive/MyDrive/TIFS/2021-02-09.tif') #Replace it with your image path and name"
      ],
      "metadata": {
        "id": "gifzqA11vIoU"
      },
      "execution_count": 21,
      "outputs": []
    },
    {
      "cell_type": "code",
      "source": [
        "data = data_gantt(table, 1) # 0 will display station names on the Gantt chart, and 1 will display their codes."
      ],
      "metadata": {
        "id": "o86sgcXb2zOW"
      },
      "execution_count": null,
      "outputs": []
    },
    {
      "cell_type": "code",
      "source": [
        "img, axis = plt.subplots(figsize = (10,8))\n",
        "\n",
        "show(raster, ax = axis)\n",
        "station.plot(ax = axis, color = 'red', alpha = 0.4)"
      ],
      "metadata": {
        "id": "hmqk_D0zvN1P"
      },
      "execution_count": null,
      "outputs": []
    },
    {
      "cell_type": "code",
      "source": [
        "gantt = hydrobr.Plot.gantt(data)\n",
        "\n",
        "gantt.update_layout(\n",
        "    autosize=True,\n",
        "    width=1300,\n",
        "    height=500,\n",
        "    xaxis_title = 'Year',\n",
        "    yaxis_title = 'Stations',\n",
        "    font=dict(family=\"Courier New\", size=15))\n",
        "\n",
        "display(gantt)"
      ],
      "metadata": {
        "id": "wtX73mhv244n"
      },
      "execution_count": null,
      "outputs": []
    },
    {
      "cell_type": "code",
      "source": [
        "#Each station occurrence for each responsible\n",
        "station = hydrobr.get_data.ANA.list_prec_stations(state ='BAHIA')\n",
        "station[\"Responsible\"].value_counts()"
      ],
      "metadata": {
        "id": "HeZmNvh7qxT-"
      },
      "execution_count": null,
      "outputs": []
    }
  ],
  "metadata": {
    "colab": {
      "provenance": [],
      "collapsed_sections": []
    },
    "kernelspec": {
      "display_name": "Python 3",
      "name": "python3"
    },
    "language_info": {
      "name": "python"
    }
  },
  "nbformat": 4,
  "nbformat_minor": 0
}