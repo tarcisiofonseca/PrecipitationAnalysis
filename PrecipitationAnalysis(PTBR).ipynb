{
  "nbformat": 4,
  "nbformat_minor": 0,
  "metadata": {
    "colab": {
      "provenance": []
    },
    "kernelspec": {
      "name": "python3",
      "display_name": "Python 3"
    },
    "language_info": {
      "name": "python"
    }
  },
  "cells": [
    {
      "cell_type": "code",
      "execution_count": null,
      "metadata": {
        "id": "gRRocxTqdx5_"
      },
      "outputs": [],
      "source": [
        "import hydrobr\n",
        "import pandas as pd\n",
        "import geopandas as gpd\n",
        "import matplotlib.pyplot as plt\n",
        "import rasterio\n",
        "from rasterio.plot import show"
      ]
    },
    {
      "cell_type": "code",
      "source": [
        "from google.colab import drive\n",
        "drive.mount('/content/gdrive')"
      ],
      "metadata": {
        "id": "125ZZRjqd1U4"
      },
      "execution_count": null,
      "outputs": []
    },
    {
      "cell_type": "code",
      "source": [
        "def municipios(municipios, estado):\n",
        "  if len(municipios) > 0:\n",
        "    tabela = []\n",
        "    for i in range(0, len(municipios)):\n",
        "      estacao = hydrobr.get_data.ANA.list_prec_stations(estado = estado, city = municipios[i])\n",
        "      tabela.append(estacao)\n",
        "    tabela_final = pd.concat(tabela)\n",
        "    display(tabela_final)\n",
        "    return tabela_final\n",
        "  else:\n",
        "    estacao = hydrobr.get_data.ANA.list_prec_stations(estado = estado)\n",
        "    display(estacao)\n",
        "    return estacao"
      ],
      "metadata": {
        "id": "vvMVDQ00d202"
      },
      "execution_count": null,
      "outputs": []
    },
    {
      "cell_type": "code",
      "source": [
        "def data_gantt(tabela, codigo = 0):\n",
        "  if codigo == 0:\n",
        "    estacoes = tabela.Code.to_list()\n",
        "    dados = hydrobr.get_data.ANA.prec_data(estacoes)\n",
        "    id = tabela[\"Código\"]\n",
        "    name = tabela[\"Nome\"]\n",
        "    responsible = tabela[\"Responsável\"]\n",
        "    id_lista = []\n",
        "    nome_lista = []\n",
        "    responsavel_lista = []\n",
        "    for i in range(0, len(tabela)):\n",
        "      id_lista.append(id.iloc[i])\n",
        "    for i in range(0, len(tabela)):\n",
        "      nome_lista.append(name.iloc[i])\n",
        "    for i in range(0, len(tabela)):\n",
        "      responsavel_lista.append(responsible.iloc[i])\n",
        "    for i in range(0, len(id_lista)):\n",
        "      dados = dados.rename(columns={id_lista[i]: nome_lista[i] + \" \" + \"(\" + responsavel_lista[i] + \")\"})\n",
        "    return dados\n",
        "  if codigo == 1:\n",
        "      estacoes = tabela.Code.to_list()\n",
        "      dados = hydrobr.get_data.ANA.prec_data(estacoes)\n",
        "      return dados"
      ],
      "metadata": {
        "id": "WvRXXsHEd6CH"
      },
      "execution_count": null,
      "outputs": []
    },
    {
      "cell_type": "code",
      "source": [
        "municipios_lista = ['MUCURI', 'RODELAS'] # Escolha os municípios que deseja coletar. Deixe a lista vazia caso queira coletar todos do estado escolhido abaixo\n",
        "estado = 'BAHIA'                         # Escolha o estado ao qual os municípios acima pertecem. Escolha apenas um\n",
        "tabela = municipios(municipios_lista, estado)"
      ],
      "metadata": {
        "id": "zrbnSIF8d7p3"
      },
      "execution_count": null,
      "outputs": []
    },
    {
      "cell_type": "code",
      "source": [
        "estacao = gpd.GeoDataFrame(tabela, geometry = gpd.points_from_xy(tabela['Longitude'], tabela['Latitude']))\n",
        "raster = rasterio.open('/content/gdrive/MyDrive/TIFS/2021-02-09.tif') # Substitua com o caminho e nome da sua imagem TIF\n",
        "dados = data_gantt(tabela, 1) # 0 mostrará o nome das estações no diagrama Gantt, enquanto 1 mostrará seus códigos"
      ],
      "metadata": {
        "id": "5eU9neGgd9iH"
      },
      "execution_count": null,
      "outputs": []
    },
    {
      "cell_type": "code",
      "source": [
        "img, axis = plt.subplots(figsize = (10,8))\n",
        "\n",
        "show(raster, ax = axis)\n",
        "estacao.plot(ax = axis, color = 'red', alpha = 0.4)"
      ],
      "metadata": {
        "id": "-plPLlIzeCkH"
      },
      "execution_count": null,
      "outputs": []
    },
    {
      "cell_type": "code",
      "source": [
        "gantt = hydrobr.Plot.gantt(data)\n",
        "\n",
        "gantt.update_layout(\n",
        "    autosize=True,\n",
        "    width=1300,\n",
        "    height=500,\n",
        "    xaxis_title = 'Ano',\n",
        "    yaxis_title = 'Estações',\n",
        "    font=dict(family=\"Courier New\", size=15))\n",
        "\n",
        "display(gantt)"
      ],
      "metadata": {
        "id": "gcRNGRcYeDMX"
      },
      "execution_count": null,
      "outputs": []
    }
  ]
}